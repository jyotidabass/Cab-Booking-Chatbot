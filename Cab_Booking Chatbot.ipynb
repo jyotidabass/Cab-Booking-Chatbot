{
  "nbformat": 4,
  "nbformat_minor": 0,
  "metadata": {
    "colab": {
      "provenance": [],
      "authorship_tag": "ABX9TyOkJJpthguNB83b2u5Aj6Wz",
      "include_colab_link": true
    },
    "kernelspec": {
      "name": "python3",
      "display_name": "Python 3"
    },
    "language_info": {
      "name": "python"
    }
  },
  "cells": [
    {
      "cell_type": "markdown",
      "metadata": {
        "id": "view-in-github",
        "colab_type": "text"
      },
      "source": [
        "<a href=\"https://colab.research.google.com/github/jyotidabass/Cab-Booking-Chatbot/blob/main/Cab_Booking%C2%A0Chatbot.ipynb\" target=\"_parent\"><img src=\"https://colab.research.google.com/assets/colab-badge.svg\" alt=\"Open In Colab\"/></a>"
      ]
    },
    {
      "cell_type": "code",
      "execution_count": 1,
      "metadata": {
        "colab": {
          "base_uri": "https://localhost:8080/"
        },
        "id": "8XoppT6VeYoo",
        "outputId": "8cb47352-b3b0-45fe-e832-2d08a92cec39"
      },
      "outputs": [
        {
          "output_type": "stream",
          "name": "stdout",
          "text": [
            "Welcome to Cab Booking Chatbot!\n",
            "Please type 'book' to book a cab or 'exit' to quit.\n",
            "You: book\n",
            "Please enter your pickup location:\n",
            "You: delhi\n",
            "Please enter your destination:\n",
            "You: mumbai\n",
            "Which cab type do you prefer? (Uber/Ola/TaxiForSure)\n",
            "You: uber\n",
            "Cab uber booked successfully!\n",
            "Your booking details:\n",
            "{'cab_id': 1, 'pickup_location': 'delhi', 'destination': 'mumbai'}\n",
            "You: 1\n",
            "Sorry, I didn't understand that. Please try again.\n",
            "You: delhi\n",
            "Sorry, I didn't understand that. Please try again.\n",
            "You: quit\n",
            "Sorry, I didn't understand that. Please try again.\n",
            "You: exit\n",
            "Thank you for using our chatbot!\n"
          ]
        }
      ],
      "source": [
        "import nltk\n",
        "from nltk.stem import WordNetLemmatizer\n",
        "lemmatizer = WordNetLemmatizer()\n",
        "import random\n",
        "\n",
        "# Dummy data for cabs and their availability\n",
        "cabs = [\n",
        "    {\"id\": 1, \"name\": \"Uber\", \"available\": True},\n",
        "    {\"id\": 2, \"name\": \"Ola\", \"available\": False},\n",
        "    {\"id\": 3, \"name\": \"TaxiForSure\", \"available\": True}\n",
        "]\n",
        "\n",
        "# Dictionary to store user's booking details\n",
        "booking_details = {}\n",
        "\n",
        "def book_cab():\n",
        "    print(\"Welcome to Cab Booking Chatbot!\")\n",
        "    print(\"Please type 'book' to book a cab or 'exit' to quit.\")\n",
        "\n",
        "    while True:\n",
        "        user_input = input(\"You: \")\n",
        "        user_input = user_input.lower()\n",
        "\n",
        "        if user_input == \"book\":\n",
        "            # Get user's location\n",
        "            print(\"Please enter your pickup location:\")\n",
        "            pickup_location = input(\"You: \")\n",
        "\n",
        "            # Get user's destination\n",
        "            print(\"Please enter your destination:\")\n",
        "            destination = input(\"You: \")\n",
        "\n",
        "            # Get user's preferred cab type\n",
        "            print(\"Which cab type do you prefer? (Uber/Ola/TaxiForSure)\")\n",
        "            cab_type = input(\"You: \")\n",
        "\n",
        "            # Check if the preferred cab type is available\n",
        "            for cab in cabs:\n",
        "                if cab[\"name\"].lower() == cab_type.lower() and cab[\"available\"]:\n",
        "                    # Book the cab and update the availability\n",
        "                    booking_details[\"cab_id\"] = cab[\"id\"]\n",
        "                    booking_details[\"pickup_location\"] = pickup_location\n",
        "                    booking_details[\"destination\"] = destination\n",
        "                    cab[\"available\"] = False\n",
        "                    print(f\"Cab {cab_type} booked successfully!\")\n",
        "                    print(\"Your booking details:\")\n",
        "                    print(booking_details)\n",
        "                    break\n",
        "            else:\n",
        "                print(\"Sorry, your preferred cab type is not available.\")\n",
        "\n",
        "        elif user_input == \"exit\":\n",
        "            print(\"Thank you for using our chatbot!\")\n",
        "            break\n",
        "\n",
        "        else:\n",
        "            print(\"Sorry, I didn't understand that. Please try again.\")\n",
        "\n",
        "book_cab()"
      ]
    }
  ]
}